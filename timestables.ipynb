{
 "cells": [
  {
   "cell_type": "code",
   "execution_count": 4,
   "metadata": {},
   "outputs": [],
   "source": [
    "import random\n",
    "class Timestables:\n",
    "    \n",
    "    def __init__(self, limit=12):\n",
    "        self.limit = limit\n",
    "        \n",
    "    def pool(self):\n",
    "        r = list(range(self.limit))\n",
    "        random.shuffle(r)\n",
    "        return iter(r)\n",
    "    \n",
    "    def check_answer(self, x, y, answer):\n",
    "        return int(x) * int(y) == int(answer)\n",
    "    \n",
    "    def do_multiple(self, factor, multiple):\n",
    "        done = False\n",
    "        print(f'{factor} x {multiple}')\n",
    "        while not done:\n",
    "            i = input()\n",
    "            if self.check_answer(factor, multiple, i):\n",
    "                print(\"Yes!\\n\")\n",
    "                done = True\n",
    "            else:\n",
    "                print(\"Try again!\\n\")\n",
    "                print(f'{factor} x {multiple}')\n",
    "        \n",
    "    def do_table_for(self, factor):\n",
    "        p = self.pool()\n",
    "        while p:\n",
    "            try:\n",
    "                multiple = next(p)\n",
    "            except StopIteration:\n",
    "                print(\"Done!\\n\")\n",
    "                break\n",
    "            else:\n",
    "                self.do_multiple(factor, multiple)"
   ]
  },
  {
   "cell_type": "code",
   "execution_count": 5,
   "metadata": {},
   "outputs": [],
   "source": [
    "t = Timestables()"
   ]
  },
  {
   "cell_type": "code",
   "execution_count": null,
   "metadata": {},
   "outputs": [
    {
     "name": "stdout",
     "output_type": "stream",
     "text": [
      "5 x 11\n",
      "55\n",
      "Yes!\n",
      "\n",
      "5 x 1\n",
      "6\n",
      "Try again!\n",
      "\n",
      "5 x 1\n",
      "5\n",
      "Yes!\n",
      "\n",
      "5 x 2\n",
      "10\n",
      "Yes!\n",
      "\n",
      "5 x 7\n",
      "35\n",
      "Yes!\n",
      "\n",
      "5 x 6\n",
      "30\n",
      "Yes!\n",
      "\n",
      "5 x 9\n",
      "45\n",
      "Yes!\n",
      "\n",
      "5 x 8\n",
      "40\n",
      "Yes!\n",
      "\n",
      "5 x 5\n"
     ]
    }
   ],
   "source": [
    "t.do_table_for(5)"
   ]
  },
  {
   "cell_type": "code",
   "execution_count": null,
   "metadata": {},
   "outputs": [],
   "source": []
  },
  {
   "cell_type": "code",
   "execution_count": null,
   "metadata": {},
   "outputs": [],
   "source": []
  }
 ],
 "metadata": {
  "kernelspec": {
   "display_name": "Python 3",
   "language": "python",
   "name": "python3"
  },
  "language_info": {
   "codemirror_mode": {
    "name": "ipython",
    "version": 3
   },
   "file_extension": ".py",
   "mimetype": "text/x-python",
   "name": "python",
   "nbconvert_exporter": "python",
   "pygments_lexer": "ipython3",
   "version": "3.8.5"
  }
 },
 "nbformat": 4,
 "nbformat_minor": 4
}
